{
 "cells": [
  {
   "cell_type": "code",
   "execution_count": 27,
   "metadata": {
    "id": "PyQmSRbKA8r-"
   },
   "outputs": [],
   "source": [
    "from vertexai.language_models import TextGenerationModel, ChatModel, InputOutputTextPair"
   ]
  },
  {
   "cell_type": "code",
   "execution_count": 28,
   "metadata": {
    "id": "7isig7e07O-a"
   },
   "outputs": [],
   "source": [
    "generation_model = TextGenerationModel.from_pretrained(\"text-bison@001\")"
   ]
  },
  {
   "cell_type": "code",
   "execution_count": 29,
   "metadata": {},
   "outputs": [],
   "source": [
    "toptr = {\"Suggest a name for a flower shop that sells bouquets of dried flowers\",\n",
    "\"Generate a list of ways that makes Earth unique compared to other planets\",\n",
    "\"Why is the sky blue?\",\n",
    "\"Who was the first elephant to visit the moon?\",\n",
    "\"I'm a high school student. Recommend me a programming activity to improve my skills.\",\n",
    "\"\"\"I'm a high school student. Which of these activities do you suggest and why:\n",
    "a) learn Python\n",
    "b) learn Javascript\n",
    "c) learn Fortran\n",
    "\"\"\",\n",
    "\"\"\"Decide whether a Tweet's sentiment is positive, neutral, or negative.\n",
    "\n",
    "Tweet: I loved the new YouTube video you made!\n",
    "Sentiment:\n",
    "\"\"\",\n",
    "\"\"\"Decide whether a Tweet's sentiment is positive, neutral, or negative.\n",
    "\n",
    "Tweet: I loved the new YouTube video you made!\n",
    "Sentiment: positive\n",
    "\n",
    "Tweet: That was awful. Super boring 😠\n",
    "Sentiment:\n",
    "\"\"\",\n",
    "\"What is a large language model?\",\n",
    "\"What are the top 10 trends in the tech industry?\"}"
   ]
  },
  {
   "cell_type": "code",
   "execution_count": 30,
   "metadata": {},
   "outputs": [
    {
     "name": "stdout",
     "output_type": "stream",
     "text": [
      "Decide whether a Tweet's sentiment is positive, neutral, or negative.\n",
      "\n",
      "Tweet: I loved the new YouTube video you made!\n",
      "Sentiment:\n",
      "\n",
      "Who was the first elephant to visit the moon?\n",
      "I'm a high school student. Which of these activities do you suggest and why:\n",
      "a) learn Python\n",
      "b) learn Javascript\n",
      "c) learn Fortran\n",
      "\n",
      "I'm a high school student. Recommend me a programming activity to improve my skills.\n",
      "What is a large language model?\n",
      "Decide whether a Tweet's sentiment is positive, neutral, or negative.\n",
      "\n",
      "Tweet: I loved the new YouTube video you made!\n",
      "Sentiment: positive\n",
      "\n",
      "Tweet: That was awful. Super boring 😠\n",
      "Sentiment:\n",
      "\n",
      "Suggest a name for a flower shop that sells bouquets of dried flowers\n",
      "Generate a list of ways that makes Earth unique compared to other planets\n",
      "Why is the sky blue?\n",
      "What are the top 10 trends in the tech industry?\n"
     ]
    }
   ],
   "source": [
    "for i in toptr:\n",
    "   generation_model.predict(prompt=i, max_output_tokens=256)\n",
    "#   print(i)"
   ]
  },
  {
   "cell_type": "code",
   "execution_count": 31,
   "metadata": {},
   "outputs": [
    {
     "name": "stdout",
     "output_type": "stream",
     "text": [
      "\n",
      "text\n",
      "0\ti really enjoyed the movie last night\n",
      "1\tso many amazing cinematic scenes yesterday\n",
      "2\thad a great time writing my Python scripts a f...\n",
      "3\thuge sense of relief when my .py script finall...\n",
      "4\tO Romeo, Romeo, wherefore art thou Romeo?\n",
      "\n"
     ]
    }
   ],
   "source": [
    "print(\"\"\"\n",
    "text\n",
    "0\ti really enjoyed the movie last night\n",
    "1\tso many amazing cinematic scenes yesterday\n",
    "2\thad a great time writing my Python scripts a f...\n",
    "3\thuge sense of relief when my .py script finall...\n",
    "4\tO Romeo, Romeo, wherefore art thou Romeo?\n",
    "\"\"\")"
   ]
  },
  {
   "cell_type": "code",
   "execution_count": 32,
   "metadata": {},
   "outputs": [],
   "source": [
    "chat_model = ChatModel.from_pretrained(\"chat-bison@001\")"
   ]
  },
  {
   "cell_type": "code",
   "execution_count": 33,
   "metadata": {},
   "outputs": [],
   "source": [
    "chat = chat_model.start_chat(\n",
    "    context=\"My name is Ned. You are my personal assistant. My favorite movies are Lord of the Rings and Hobbit.\",\n",
    "    examples=[\n",
    "        InputOutputTextPair(\n",
    "            input_text=\"Who do you work for?\",\n",
    "            output_text=\"I work for Ned.\",\n",
    "        ),\n",
    "        InputOutputTextPair(\n",
    "            input_text=\"What do I like?\",\n",
    "            output_text=\"Ned likes watching movies.\",\n",
    "        ),\n",
    "    ],\n",
    "    temperature=0.3,\n",
    "    max_output_tokens=200,\n",
    "    top_p=0.8,\n",
    "    top_k=40,\n",
    ")"
   ]
  },
  {
   "cell_type": "code",
   "execution_count": 34,
   "metadata": {},
   "outputs": [
    {
     "data": {
      "text/plain": [
       "Yes, they are."
      ]
     },
     "execution_count": 34,
     "metadata": {},
     "output_type": "execute_result"
    }
   ],
   "source": [
    "chat.send_message(\"Are my favorite movies based on a book series?\")"
   ]
  }
 ],
 "metadata": {
  "colab": {
   "name": "intro_prompt_design.ipynb",
   "toc_visible": true
  },
  "environment": {
   "kernel": "python3",
   "name": "tf2-cpu.2-11.m112",
   "type": "gcloud",
   "uri": "gcr.io/deeplearning-platform-release/tf2-cpu.2-11:m112"
  },
  "kernelspec": {
   "display_name": "Python 3",
   "language": "python",
   "name": "python3"
  },
  "language_info": {
   "codemirror_mode": {
    "name": "ipython",
    "version": 3
   },
   "file_extension": ".py",
   "mimetype": "text/x-python",
   "name": "python",
   "nbconvert_exporter": "python",
   "pygments_lexer": "ipython3",
   "version": "3.10.12"
  }
 },
 "nbformat": 4,
 "nbformat_minor": 4
}
